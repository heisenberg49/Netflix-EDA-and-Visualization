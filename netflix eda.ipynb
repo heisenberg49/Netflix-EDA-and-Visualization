{
 "cells": [
  {
   "cell_type": "code",
   "execution_count": 2,
   "id": "e6ac3ae2",
   "metadata": {},
   "outputs": [],
   "source": [
    "import pandas as pd\n",
    "import numpy as np\n",
    "import seaborn as sns\n",
    "import matplotlib.pyplot as plt"
   ]
  },
  {
   "cell_type": "code",
   "execution_count": 4,
   "id": "b95d031d",
   "metadata": {},
   "outputs": [],
   "source": [
    "#importing csv file\n",
    "\n",
    "netflix = pd.read_csv(r'C:\\Users\\prem\\Downloads\\archive (7)\\Netflixoriginals.csv')"
   ]
  },
  {
   "cell_type": "code",
   "execution_count": 7,
   "id": "60de96b4",
   "metadata": {},
   "outputs": [
    {
     "data": {
      "text/html": [
       "<div>\n",
       "<style scoped>\n",
       "    .dataframe tbody tr th:only-of-type {\n",
       "        vertical-align: middle;\n",
       "    }\n",
       "\n",
       "    .dataframe tbody tr th {\n",
       "        vertical-align: top;\n",
       "    }\n",
       "\n",
       "    .dataframe thead th {\n",
       "        text-align: right;\n",
       "    }\n",
       "</style>\n",
       "<table border=\"1\" class=\"dataframe\">\n",
       "  <thead>\n",
       "    <tr style=\"text-align: right;\">\n",
       "      <th></th>\n",
       "      <th>Title</th>\n",
       "      <th>Genre</th>\n",
       "      <th>Premiere</th>\n",
       "      <th>Runtime</th>\n",
       "      <th>IMDB Score</th>\n",
       "      <th>Language</th>\n",
       "    </tr>\n",
       "  </thead>\n",
       "  <tbody>\n",
       "    <tr>\n",
       "      <th>0</th>\n",
       "      <td>Enter the Anime</td>\n",
       "      <td>Documentary</td>\n",
       "      <td>August 5, 2019</td>\n",
       "      <td>58</td>\n",
       "      <td>2.5</td>\n",
       "      <td>English/Japanese</td>\n",
       "    </tr>\n",
       "    <tr>\n",
       "      <th>1</th>\n",
       "      <td>Dark Forces</td>\n",
       "      <td>Thriller</td>\n",
       "      <td>August 21, 2020</td>\n",
       "      <td>81</td>\n",
       "      <td>2.6</td>\n",
       "      <td>Spanish</td>\n",
       "    </tr>\n",
       "    <tr>\n",
       "      <th>2</th>\n",
       "      <td>The App</td>\n",
       "      <td>Science fiction/Drama</td>\n",
       "      <td>December 26, 2019</td>\n",
       "      <td>79</td>\n",
       "      <td>2.6</td>\n",
       "      <td>Italian</td>\n",
       "    </tr>\n",
       "    <tr>\n",
       "      <th>3</th>\n",
       "      <td>The Open House</td>\n",
       "      <td>Horror thriller</td>\n",
       "      <td>January 19, 2018</td>\n",
       "      <td>94</td>\n",
       "      <td>3.2</td>\n",
       "      <td>English</td>\n",
       "    </tr>\n",
       "    <tr>\n",
       "      <th>4</th>\n",
       "      <td>Kaali Khuhi</td>\n",
       "      <td>Mystery</td>\n",
       "      <td>October 30, 2020</td>\n",
       "      <td>90</td>\n",
       "      <td>3.4</td>\n",
       "      <td>Hindi</td>\n",
       "    </tr>\n",
       "  </tbody>\n",
       "</table>\n",
       "</div>"
      ],
      "text/plain": [
       "             Title                  Genre           Premiere  Runtime  \\\n",
       "0  Enter the Anime            Documentary     August 5, 2019       58   \n",
       "1      Dark Forces               Thriller    August 21, 2020       81   \n",
       "2          The App  Science fiction/Drama  December 26, 2019       79   \n",
       "3   The Open House        Horror thriller   January 19, 2018       94   \n",
       "4      Kaali Khuhi                Mystery   October 30, 2020       90   \n",
       "\n",
       "   IMDB Score          Language  \n",
       "0         2.5  English/Japanese  \n",
       "1         2.6           Spanish  \n",
       "2         2.6           Italian  \n",
       "3         3.2           English  \n",
       "4         3.4             Hindi  "
      ]
     },
     "execution_count": 7,
     "metadata": {},
     "output_type": "execute_result"
    }
   ],
   "source": [
    "#viewing rows\n",
    "\n",
    "netflix.head()"
   ]
  },
  {
   "cell_type": "code",
   "execution_count": 9,
   "id": "fdc683ad",
   "metadata": {},
   "outputs": [
    {
     "data": {
      "text/plain": [
       "(584, 6)"
      ]
     },
     "execution_count": 9,
     "metadata": {},
     "output_type": "execute_result"
    }
   ],
   "source": [
    "netflix.shape"
   ]
  },
  {
   "cell_type": "markdown",
   "id": "b3156ba5",
   "metadata": {},
   "source": [
    "###### 586 rows and 6 column"
   ]
  },
  {
   "cell_type": "code",
   "execution_count": 11,
   "id": "4f95b2f3",
   "metadata": {},
   "outputs": [
    {
     "name": "stdout",
     "output_type": "stream",
     "text": [
      "<class 'pandas.core.frame.DataFrame'>\n",
      "RangeIndex: 584 entries, 0 to 583\n",
      "Data columns (total 6 columns):\n",
      " #   Column      Non-Null Count  Dtype  \n",
      "---  ------      --------------  -----  \n",
      " 0   Title       584 non-null    object \n",
      " 1   Genre       584 non-null    object \n",
      " 2   Premiere    584 non-null    object \n",
      " 3   Runtime     584 non-null    int64  \n",
      " 4   IMDB Score  584 non-null    float64\n",
      " 5   Language    584 non-null    object \n",
      "dtypes: float64(1), int64(1), object(4)\n",
      "memory usage: 27.5+ KB\n"
     ]
    }
   ],
   "source": [
    "#datatypes\n",
    "\n",
    "netflix.info()"
   ]
  },
  {
   "cell_type": "code",
   "execution_count": 12,
   "id": "c54ae5f3",
   "metadata": {},
   "outputs": [
    {
     "data": {
      "text/html": [
       "<div>\n",
       "<style scoped>\n",
       "    .dataframe tbody tr th:only-of-type {\n",
       "        vertical-align: middle;\n",
       "    }\n",
       "\n",
       "    .dataframe tbody tr th {\n",
       "        vertical-align: top;\n",
       "    }\n",
       "\n",
       "    .dataframe thead th {\n",
       "        text-align: right;\n",
       "    }\n",
       "</style>\n",
       "<table border=\"1\" class=\"dataframe\">\n",
       "  <thead>\n",
       "    <tr style=\"text-align: right;\">\n",
       "      <th></th>\n",
       "      <th>Runtime</th>\n",
       "      <th>IMDB Score</th>\n",
       "    </tr>\n",
       "  </thead>\n",
       "  <tbody>\n",
       "    <tr>\n",
       "      <th>count</th>\n",
       "      <td>584.000000</td>\n",
       "      <td>584.000000</td>\n",
       "    </tr>\n",
       "    <tr>\n",
       "      <th>mean</th>\n",
       "      <td>93.577055</td>\n",
       "      <td>6.271747</td>\n",
       "    </tr>\n",
       "    <tr>\n",
       "      <th>std</th>\n",
       "      <td>27.761683</td>\n",
       "      <td>0.979256</td>\n",
       "    </tr>\n",
       "    <tr>\n",
       "      <th>min</th>\n",
       "      <td>4.000000</td>\n",
       "      <td>2.500000</td>\n",
       "    </tr>\n",
       "    <tr>\n",
       "      <th>25%</th>\n",
       "      <td>86.000000</td>\n",
       "      <td>5.700000</td>\n",
       "    </tr>\n",
       "    <tr>\n",
       "      <th>50%</th>\n",
       "      <td>97.000000</td>\n",
       "      <td>6.350000</td>\n",
       "    </tr>\n",
       "    <tr>\n",
       "      <th>75%</th>\n",
       "      <td>108.000000</td>\n",
       "      <td>7.000000</td>\n",
       "    </tr>\n",
       "    <tr>\n",
       "      <th>max</th>\n",
       "      <td>209.000000</td>\n",
       "      <td>9.000000</td>\n",
       "    </tr>\n",
       "  </tbody>\n",
       "</table>\n",
       "</div>"
      ],
      "text/plain": [
       "          Runtime  IMDB Score\n",
       "count  584.000000  584.000000\n",
       "mean    93.577055    6.271747\n",
       "std     27.761683    0.979256\n",
       "min      4.000000    2.500000\n",
       "25%     86.000000    5.700000\n",
       "50%     97.000000    6.350000\n",
       "75%    108.000000    7.000000\n",
       "max    209.000000    9.000000"
      ]
     },
     "execution_count": 12,
     "metadata": {},
     "output_type": "execute_result"
    }
   ],
   "source": [
    "netflix.describe()"
   ]
  },
  {
   "cell_type": "markdown",
   "id": "7b2afd47",
   "metadata": {},
   "source": [
    "#### average movie run time = 94min and  average imdb rating = 6"
   ]
  },
  {
   "cell_type": "code",
   "execution_count": 22,
   "id": "8f3204b3",
   "metadata": {},
   "outputs": [
    {
     "data": {
      "text/html": [
       "<div>\n",
       "<style scoped>\n",
       "    .dataframe tbody tr th:only-of-type {\n",
       "        vertical-align: middle;\n",
       "    }\n",
       "\n",
       "    .dataframe tbody tr th {\n",
       "        vertical-align: top;\n",
       "    }\n",
       "\n",
       "    .dataframe thead th {\n",
       "        text-align: right;\n",
       "    }\n",
       "</style>\n",
       "<table border=\"1\" class=\"dataframe\">\n",
       "  <thead>\n",
       "    <tr style=\"text-align: right;\">\n",
       "      <th></th>\n",
       "      <th>0</th>\n",
       "    </tr>\n",
       "  </thead>\n",
       "  <tbody>\n",
       "    <tr>\n",
       "      <th>Title</th>\n",
       "      <td>0</td>\n",
       "    </tr>\n",
       "    <tr>\n",
       "      <th>Genre</th>\n",
       "      <td>0</td>\n",
       "    </tr>\n",
       "    <tr>\n",
       "      <th>Premiere</th>\n",
       "      <td>0</td>\n",
       "    </tr>\n",
       "    <tr>\n",
       "      <th>Runtime</th>\n",
       "      <td>0</td>\n",
       "    </tr>\n",
       "    <tr>\n",
       "      <th>IMDB Score</th>\n",
       "      <td>0</td>\n",
       "    </tr>\n",
       "    <tr>\n",
       "      <th>Language</th>\n",
       "      <td>0</td>\n",
       "    </tr>\n",
       "  </tbody>\n",
       "</table>\n",
       "</div>"
      ],
      "text/plain": [
       "            0\n",
       "Title       0\n",
       "Genre       0\n",
       "Premiere    0\n",
       "Runtime     0\n",
       "IMDB Score  0\n",
       "Language    0"
      ]
     },
     "execution_count": 22,
     "metadata": {},
     "output_type": "execute_result"
    }
   ],
   "source": [
    "# to check if there are any null values\n",
    "\n",
    "pd.DataFrame(netflix.isnull().sum()),columns"
   ]
  },
  {
   "cell_type": "markdown",
   "id": "2534bd2a",
   "metadata": {},
   "source": [
    "no null values are  there"
   ]
  },
  {
   "cell_type": "code",
   "execution_count": 23,
   "id": "b0b0d48c",
   "metadata": {},
   "outputs": [
    {
     "data": {
      "text/html": [
       "<div>\n",
       "<style scoped>\n",
       "    .dataframe tbody tr th:only-of-type {\n",
       "        vertical-align: middle;\n",
       "    }\n",
       "\n",
       "    .dataframe tbody tr th {\n",
       "        vertical-align: top;\n",
       "    }\n",
       "\n",
       "    .dataframe thead th {\n",
       "        text-align: right;\n",
       "    }\n",
       "</style>\n",
       "<table border=\"1\" class=\"dataframe\">\n",
       "  <thead>\n",
       "    <tr style=\"text-align: right;\">\n",
       "      <th></th>\n",
       "      <th>Title</th>\n",
       "      <th>Genre</th>\n",
       "      <th>Premiere</th>\n",
       "      <th>Language</th>\n",
       "    </tr>\n",
       "  </thead>\n",
       "  <tbody>\n",
       "    <tr>\n",
       "      <th>count</th>\n",
       "      <td>584</td>\n",
       "      <td>584</td>\n",
       "      <td>584</td>\n",
       "      <td>584</td>\n",
       "    </tr>\n",
       "    <tr>\n",
       "      <th>unique</th>\n",
       "      <td>584</td>\n",
       "      <td>115</td>\n",
       "      <td>390</td>\n",
       "      <td>38</td>\n",
       "    </tr>\n",
       "    <tr>\n",
       "      <th>top</th>\n",
       "      <td>The Other One: The Long Strange Trip of Bob Weir</td>\n",
       "      <td>Documentary</td>\n",
       "      <td>October 2, 2020</td>\n",
       "      <td>English</td>\n",
       "    </tr>\n",
       "    <tr>\n",
       "      <th>freq</th>\n",
       "      <td>1</td>\n",
       "      <td>159</td>\n",
       "      <td>6</td>\n",
       "      <td>401</td>\n",
       "    </tr>\n",
       "  </tbody>\n",
       "</table>\n",
       "</div>"
      ],
      "text/plain": [
       "                                                   Title        Genre  \\\n",
       "count                                                584          584   \n",
       "unique                                               584          115   \n",
       "top     The Other One: The Long Strange Trip of Bob Weir  Documentary   \n",
       "freq                                                   1          159   \n",
       "\n",
       "               Premiere Language  \n",
       "count               584      584  \n",
       "unique              390       38  \n",
       "top     October 2, 2020  English  \n",
       "freq                  6      401  "
      ]
     },
     "execution_count": 23,
     "metadata": {},
     "output_type": "execute_result"
    }
   ],
   "source": [
    "netflix.describe(include='object')"
   ]
  },
  {
   "cell_type": "markdown",
   "id": "47a47e90",
   "metadata": {},
   "source": [
    "#### top genre is docutmentary and top langauge is english"
   ]
  },
  {
   "cell_type": "code",
   "execution_count": 25,
   "id": "69c9c1d0",
   "metadata": {},
   "outputs": [
    {
     "data": {
      "text/plain": [
       "115"
      ]
     },
     "execution_count": 25,
     "metadata": {},
     "output_type": "execute_result"
    }
   ],
   "source": [
    "netflix.Genre.nunique()"
   ]
  },
  {
   "cell_type": "markdown",
   "id": "e8ed558f",
   "metadata": {},
   "source": [
    "#### there are 115 kind of genre"
   ]
  },
  {
   "cell_type": "code",
   "execution_count": 27,
   "id": "0083d8de",
   "metadata": {},
   "outputs": [
    {
     "data": {
      "text/plain": [
       "array(['Documentary', 'Thriller', 'Science fiction/Drama',\n",
       "       'Horror thriller', 'Mystery', 'Action', 'Comedy',\n",
       "       'Heist film/Thriller', 'Musical/Western/Fantasy', 'Drama',\n",
       "       'Romantic comedy', 'Action comedy', 'Horror anthology',\n",
       "       'Political thriller', 'Superhero-Comedy', 'Horror',\n",
       "       'Romance drama', 'Anime / Short', 'Superhero', 'Heist', 'Western',\n",
       "       'Animation/Superhero', 'Family film', 'Action-thriller',\n",
       "       'Teen comedy-drama', 'Romantic drama', 'Animation',\n",
       "       'Aftershow / Interview', 'Christmas musical',\n",
       "       'Science fiction adventure', 'Science fiction', 'Variety show',\n",
       "       'Comedy-drama', 'Comedy/Fantasy/Family', 'Supernatural drama',\n",
       "       'Action/Comedy', 'Action/Science fiction',\n",
       "       'Romantic teenage drama', 'Comedy / Musical', 'Musical',\n",
       "       'Science fiction/Mystery', 'Crime drama',\n",
       "       'Psychological thriller drama', 'Adventure/Comedy', 'Black comedy',\n",
       "       'Romance', 'Horror comedy', 'Christian musical',\n",
       "       'Romantic teen drama', 'Family', 'Dark comedy', 'Comedy horror',\n",
       "       'Psychological thriller', 'Biopic', 'Science fiction/Thriller',\n",
       "       'Mockumentary', 'Satire', 'One-man show', 'Romantic comedy-drama',\n",
       "       'Comedy/Horror', 'Fantasy', 'Sports-drama', 'Zombie/Heist',\n",
       "       'Psychological horror', 'Sports film', 'Comedy mystery',\n",
       "       'Romantic thriller', 'Christmas comedy', 'War-Comedy',\n",
       "       'Romantic comedy/Holiday', 'Adventure-romance', 'Adventure',\n",
       "       'Horror-thriller', 'Dance comedy', 'Stop Motion',\n",
       "       'Horror/Crime drama', 'Urban fantasy', 'Drama/Horror',\n",
       "       'Family/Comedy-drama', 'War', 'Crime thriller',\n",
       "       'Science fiction/Action', 'Teen comedy horror', 'Concert Film',\n",
       "       'Musical comedy', 'Animation/Musical/Adventure',\n",
       "       'Animation / Musicial', 'Animation/Comedy/Adventure',\n",
       "       'Action thriller', 'Anime/Science fiction', 'Animation / Short',\n",
       "       'War drama', 'Family/Christmas musical',\n",
       "       'Science fiction thriller', 'Drama / Short',\n",
       "       'Hidden-camera prank comedy', 'Spy thriller', 'Anime/Fantasy',\n",
       "       'Animated musical comedy', 'Variety Show', 'Superhero/Action',\n",
       "       'Biographical/Comedy', 'Historical-epic', 'Animation / Comedy',\n",
       "       'Christmas/Fantasy/Adventure/Comedy', 'Mentalism special',\n",
       "       'Drama-Comedy', 'Coming-of-age comedy-drama', 'Historical drama',\n",
       "       'Making-of', 'Action-adventure', 'Animation / Science Fiction',\n",
       "       'Anthology/Dark comedy', 'Musical / Short',\n",
       "       'Animation/Christmas/Comedy/Adventure'], dtype=object)"
      ]
     },
     "execution_count": 27,
     "metadata": {},
     "output_type": "execute_result"
    }
   ],
   "source": [
    "netflix.Genre.unique()"
   ]
  },
  {
   "cell_type": "code",
   "execution_count": 32,
   "id": "9b846986",
   "metadata": {},
   "outputs": [
    {
     "data": {
      "text/plain": [
       "38"
      ]
     },
     "execution_count": 32,
     "metadata": {},
     "output_type": "execute_result"
    }
   ],
   "source": [
    "netflix.Language.nunique()"
   ]
  },
  {
   "cell_type": "code",
   "execution_count": 35,
   "id": "f9e4fbea",
   "metadata": {},
   "outputs": [
    {
     "data": {
      "text/plain": [
       "array(['English/Japanese', 'Spanish', 'Italian', 'English', 'Hindi',\n",
       "       'Turkish', 'Korean', 'Indonesian', 'Malay', 'Dutch', 'French',\n",
       "       'English/Spanish', 'Portuguese', 'Filipino', 'German', 'Polish',\n",
       "       'Norwegian', 'Marathi', 'Thai', 'Swedish', 'Japanese',\n",
       "       'Spanish/Basque', 'Spanish/Catalan', 'English/Swedish',\n",
       "       'English/Taiwanese/Mandarin', 'Thia/English', 'English/Mandarin',\n",
       "       'Georgian', 'Bengali', 'Khmer/English/French', 'English/Hindi',\n",
       "       'Tamil', 'Spanish/English', 'English/Korean', 'English/Arabic',\n",
       "       'English/Russian', 'English/Akan', 'English/Ukranian/Russian'],\n",
       "      dtype=object)"
      ]
     },
     "execution_count": 35,
     "metadata": {},
     "output_type": "execute_result"
    }
   ],
   "source": [
    "netflix.Language.unique()"
   ]
  },
  {
   "cell_type": "code",
   "execution_count": 41,
   "id": "470bdaf0",
   "metadata": {},
   "outputs": [],
   "source": [
    "#premier should be Datetime \n",
    "netflix[\"Date\"] = pd.to_datetime(netflix.Premiere)\n",
    "\n",
    "netflix['Year'] = netflix['Date'].dt.year\n",
    "netflix['Month'] = netflix['Date'].dt.month\n",
    "netflix['Day'] = netflix['Date'].dt.day_of_week"
   ]
  },
  {
   "cell_type": "code",
   "execution_count": 42,
   "id": "f30ec84d",
   "metadata": {},
   "outputs": [
    {
     "data": {
      "text/html": [
       "<div>\n",
       "<style scoped>\n",
       "    .dataframe tbody tr th:only-of-type {\n",
       "        vertical-align: middle;\n",
       "    }\n",
       "\n",
       "    .dataframe tbody tr th {\n",
       "        vertical-align: top;\n",
       "    }\n",
       "\n",
       "    .dataframe thead th {\n",
       "        text-align: right;\n",
       "    }\n",
       "</style>\n",
       "<table border=\"1\" class=\"dataframe\">\n",
       "  <thead>\n",
       "    <tr style=\"text-align: right;\">\n",
       "      <th></th>\n",
       "      <th>Title</th>\n",
       "      <th>Genre</th>\n",
       "      <th>Premiere</th>\n",
       "      <th>Runtime</th>\n",
       "      <th>IMDB Score</th>\n",
       "      <th>Language</th>\n",
       "      <th>Date</th>\n",
       "      <th>Year</th>\n",
       "      <th>Month</th>\n",
       "      <th>Dat</th>\n",
       "      <th>Day</th>\n",
       "    </tr>\n",
       "  </thead>\n",
       "  <tbody>\n",
       "    <tr>\n",
       "      <th>0</th>\n",
       "      <td>Enter the Anime</td>\n",
       "      <td>Documentary</td>\n",
       "      <td>August 5, 2019</td>\n",
       "      <td>58</td>\n",
       "      <td>2.5</td>\n",
       "      <td>English/Japanese</td>\n",
       "      <td>2019-08-05</td>\n",
       "      <td>2019</td>\n",
       "      <td>8</td>\n",
       "      <td>0</td>\n",
       "      <td>0</td>\n",
       "    </tr>\n",
       "    <tr>\n",
       "      <th>1</th>\n",
       "      <td>Dark Forces</td>\n",
       "      <td>Thriller</td>\n",
       "      <td>August 21, 2020</td>\n",
       "      <td>81</td>\n",
       "      <td>2.6</td>\n",
       "      <td>Spanish</td>\n",
       "      <td>2020-08-21</td>\n",
       "      <td>2020</td>\n",
       "      <td>8</td>\n",
       "      <td>4</td>\n",
       "      <td>4</td>\n",
       "    </tr>\n",
       "    <tr>\n",
       "      <th>2</th>\n",
       "      <td>The App</td>\n",
       "      <td>Science fiction/Drama</td>\n",
       "      <td>December 26, 2019</td>\n",
       "      <td>79</td>\n",
       "      <td>2.6</td>\n",
       "      <td>Italian</td>\n",
       "      <td>2019-12-26</td>\n",
       "      <td>2019</td>\n",
       "      <td>12</td>\n",
       "      <td>3</td>\n",
       "      <td>3</td>\n",
       "    </tr>\n",
       "    <tr>\n",
       "      <th>3</th>\n",
       "      <td>The Open House</td>\n",
       "      <td>Horror thriller</td>\n",
       "      <td>January 19, 2018</td>\n",
       "      <td>94</td>\n",
       "      <td>3.2</td>\n",
       "      <td>English</td>\n",
       "      <td>2018-01-19</td>\n",
       "      <td>2018</td>\n",
       "      <td>1</td>\n",
       "      <td>4</td>\n",
       "      <td>4</td>\n",
       "    </tr>\n",
       "    <tr>\n",
       "      <th>4</th>\n",
       "      <td>Kaali Khuhi</td>\n",
       "      <td>Mystery</td>\n",
       "      <td>October 30, 2020</td>\n",
       "      <td>90</td>\n",
       "      <td>3.4</td>\n",
       "      <td>Hindi</td>\n",
       "      <td>2020-10-30</td>\n",
       "      <td>2020</td>\n",
       "      <td>10</td>\n",
       "      <td>4</td>\n",
       "      <td>4</td>\n",
       "    </tr>\n",
       "  </tbody>\n",
       "</table>\n",
       "</div>"
      ],
      "text/plain": [
       "             Title                  Genre           Premiere  Runtime  \\\n",
       "0  Enter the Anime            Documentary     August 5, 2019       58   \n",
       "1      Dark Forces               Thriller    August 21, 2020       81   \n",
       "2          The App  Science fiction/Drama  December 26, 2019       79   \n",
       "3   The Open House        Horror thriller   January 19, 2018       94   \n",
       "4      Kaali Khuhi                Mystery   October 30, 2020       90   \n",
       "\n",
       "   IMDB Score          Language       Date  Year  Month  Dat  Day  \n",
       "0         2.5  English/Japanese 2019-08-05  2019      8    0    0  \n",
       "1         2.6           Spanish 2020-08-21  2020      8    4    4  \n",
       "2         2.6           Italian 2019-12-26  2019     12    3    3  \n",
       "3         3.2           English 2018-01-19  2018      1    4    4  \n",
       "4         3.4             Hindi 2020-10-30  2020     10    4    4  "
      ]
     },
     "execution_count": 42,
     "metadata": {},
     "output_type": "execute_result"
    }
   ],
   "source": [
    "netflix.head()"
   ]
  },
  {
   "cell_type": "code",
   "execution_count": 43,
   "id": "a6e763a1",
   "metadata": {},
   "outputs": [],
   "source": [
    "#Dropping 'Dat' coloumn that i created by mistake\n",
    "\n",
    "netflix.drop([\"Dat\"], axis = 1, inplace = True)"
   ]
  },
  {
   "cell_type": "code",
   "execution_count": 44,
   "id": "14928804",
   "metadata": {},
   "outputs": [
    {
     "data": {
      "text/html": [
       "<div>\n",
       "<style scoped>\n",
       "    .dataframe tbody tr th:only-of-type {\n",
       "        vertical-align: middle;\n",
       "    }\n",
       "\n",
       "    .dataframe tbody tr th {\n",
       "        vertical-align: top;\n",
       "    }\n",
       "\n",
       "    .dataframe thead th {\n",
       "        text-align: right;\n",
       "    }\n",
       "</style>\n",
       "<table border=\"1\" class=\"dataframe\">\n",
       "  <thead>\n",
       "    <tr style=\"text-align: right;\">\n",
       "      <th></th>\n",
       "      <th>Title</th>\n",
       "      <th>Genre</th>\n",
       "      <th>Premiere</th>\n",
       "      <th>Runtime</th>\n",
       "      <th>IMDB Score</th>\n",
       "      <th>Language</th>\n",
       "      <th>Date</th>\n",
       "      <th>Year</th>\n",
       "      <th>Month</th>\n",
       "      <th>Day</th>\n",
       "    </tr>\n",
       "  </thead>\n",
       "  <tbody>\n",
       "    <tr>\n",
       "      <th>0</th>\n",
       "      <td>Enter the Anime</td>\n",
       "      <td>Documentary</td>\n",
       "      <td>August 5, 2019</td>\n",
       "      <td>58</td>\n",
       "      <td>2.5</td>\n",
       "      <td>English/Japanese</td>\n",
       "      <td>2019-08-05</td>\n",
       "      <td>2019</td>\n",
       "      <td>8</td>\n",
       "      <td>0</td>\n",
       "    </tr>\n",
       "    <tr>\n",
       "      <th>1</th>\n",
       "      <td>Dark Forces</td>\n",
       "      <td>Thriller</td>\n",
       "      <td>August 21, 2020</td>\n",
       "      <td>81</td>\n",
       "      <td>2.6</td>\n",
       "      <td>Spanish</td>\n",
       "      <td>2020-08-21</td>\n",
       "      <td>2020</td>\n",
       "      <td>8</td>\n",
       "      <td>4</td>\n",
       "    </tr>\n",
       "    <tr>\n",
       "      <th>2</th>\n",
       "      <td>The App</td>\n",
       "      <td>Science fiction/Drama</td>\n",
       "      <td>December 26, 2019</td>\n",
       "      <td>79</td>\n",
       "      <td>2.6</td>\n",
       "      <td>Italian</td>\n",
       "      <td>2019-12-26</td>\n",
       "      <td>2019</td>\n",
       "      <td>12</td>\n",
       "      <td>3</td>\n",
       "    </tr>\n",
       "    <tr>\n",
       "      <th>3</th>\n",
       "      <td>The Open House</td>\n",
       "      <td>Horror thriller</td>\n",
       "      <td>January 19, 2018</td>\n",
       "      <td>94</td>\n",
       "      <td>3.2</td>\n",
       "      <td>English</td>\n",
       "      <td>2018-01-19</td>\n",
       "      <td>2018</td>\n",
       "      <td>1</td>\n",
       "      <td>4</td>\n",
       "    </tr>\n",
       "    <tr>\n",
       "      <th>4</th>\n",
       "      <td>Kaali Khuhi</td>\n",
       "      <td>Mystery</td>\n",
       "      <td>October 30, 2020</td>\n",
       "      <td>90</td>\n",
       "      <td>3.4</td>\n",
       "      <td>Hindi</td>\n",
       "      <td>2020-10-30</td>\n",
       "      <td>2020</td>\n",
       "      <td>10</td>\n",
       "      <td>4</td>\n",
       "    </tr>\n",
       "  </tbody>\n",
       "</table>\n",
       "</div>"
      ],
      "text/plain": [
       "             Title                  Genre           Premiere  Runtime  \\\n",
       "0  Enter the Anime            Documentary     August 5, 2019       58   \n",
       "1      Dark Forces               Thriller    August 21, 2020       81   \n",
       "2          The App  Science fiction/Drama  December 26, 2019       79   \n",
       "3   The Open House        Horror thriller   January 19, 2018       94   \n",
       "4      Kaali Khuhi                Mystery   October 30, 2020       90   \n",
       "\n",
       "   IMDB Score          Language       Date  Year  Month  Day  \n",
       "0         2.5  English/Japanese 2019-08-05  2019      8    0  \n",
       "1         2.6           Spanish 2020-08-21  2020      8    4  \n",
       "2         2.6           Italian 2019-12-26  2019     12    3  \n",
       "3         3.2           English 2018-01-19  2018      1    4  \n",
       "4         3.4             Hindi 2020-10-30  2020     10    4  "
      ]
     },
     "execution_count": 44,
     "metadata": {},
     "output_type": "execute_result"
    }
   ],
   "source": [
    "netflix.head()"
   ]
  },
  {
   "cell_type": "code",
   "execution_count": 46,
   "id": "6da70eef",
   "metadata": {},
   "outputs": [
    {
     "data": {
      "text/plain": [
       "2020    183\n",
       "2019    125\n",
       "2018     99\n",
       "2021     71\n",
       "2017     66\n",
       "2016     30\n",
       "2015      9\n",
       "2014      1\n",
       "Name: Year, dtype: int64"
      ]
     },
     "execution_count": 46,
     "metadata": {},
     "output_type": "execute_result"
    }
   ],
   "source": [
    "year = netflix.Year.value_counts()\n",
    "year"
   ]
  },
  {
   "cell_type": "markdown",
   "id": "4140f3ff",
   "metadata": {},
   "source": [
    "#### maximum no. of movie relead in 2020 and only one in 2014"
   ]
  },
  {
   "cell_type": "code",
   "execution_count": 48,
   "id": "6be77dd4",
   "metadata": {},
   "outputs": [
    {
     "data": {
      "text/plain": [
       "<AxesSubplot:>"
      ]
     },
     "execution_count": 48,
     "metadata": {},
     "output_type": "execute_result"
    },
    {
     "data": {
      "image/png": "[encoded data removed]",
      "text/plain": [
       "<Figure size 432x288 with 1 Axes>"
      ]
     },
     "metadata": {
      "needs_background": "light"
     },
     "output_type": "display_data"
    }
   ],
   "source": [
    "sns.barplot(x=year.index, y=year.values, palette=\"crest\")"
   ]
  },
  {
   "cell_type": "code",
   "execution_count": 49,
   "id": "0af947fb",
   "metadata": {},
   "outputs": [
    {
     "data": {
      "text/plain": [
       "10    77\n",
       "4     63\n",
       "11    57\n",
       "5     53\n",
       "9     53\n",
       "12    51\n",
       "3     48\n",
       "2     39\n",
       "1     37\n",
       "8     37\n",
       "6     35\n",
       "7     34\n",
       "Name: Month, dtype: int64"
      ]
     },
     "execution_count": 49,
     "metadata": {},
     "output_type": "execute_result"
    }
   ],
   "source": [
    "month = netflix.Month.value_counts()\n",
    "month"
   ]
  },
  {
   "cell_type": "code",
   "execution_count": 50,
   "id": "691f3a21",
   "metadata": {},
   "outputs": [
    {
     "data": {
      "text/plain": [
       "<AxesSubplot:>"
      ]
     },
     "execution_count": 50,
     "metadata": {},
     "output_type": "execute_result"
    },
    {
     "data": {
      "image/png": "[encoded data removed]",
      "text/plain": [
       "<Figure size 432x288 with 1 Axes>"
      ]
     },
     "metadata": {
      "needs_background": "light"
     },
     "output_type": "display_data"
    }
   ],
   "source": [
    "sns.barplot(x=month.index, y=month.values, palette=\"husl\")"
   ]
  },
  {
   "cell_type": "code",
   "execution_count": 55,
   "id": "3027505a",
   "metadata": {},
   "outputs": [
    {
     "data": {
      "text/plain": [
       "Documentary               159\n",
       "Drama                      77\n",
       "Comedy                     49\n",
       "Romantic comedy            39\n",
       "Thriller                   33\n",
       "Comedy-drama               14\n",
       "Crime drama                11\n",
       "Horror                      9\n",
       "Biopic                      9\n",
       "Action                      7\n",
       "Romance                     6\n",
       "Concert Film                6\n",
       "Aftershow / Interview       6\n",
       "Action comedy               5\n",
       "Animation                   5\n",
       "Romantic drama              5\n",
       "Psychological thriller      4\n",
       "Science fiction             4\n",
       "Variety show                4\n",
       "Animation / Short           4\n",
       "Name: Genre, dtype: int64"
      ]
     },
     "execution_count": 55,
     "metadata": {},
     "output_type": "execute_result"
    }
   ],
   "source": [
    "netflix['Genre'].value_counts().head(20)"
   ]
  },
  {
   "cell_type": "code",
   "execution_count": 56,
   "id": "3213b643",
   "metadata": {},
   "outputs": [
    {
     "data": {
      "text/plain": [
       "English       401\n",
       "Hindi          33\n",
       "Spanish        31\n",
       "French         20\n",
       "Italian        14\n",
       "Portuguese     12\n",
       "Indonesian      9\n",
       "Korean          6\n",
       "Japanese        6\n",
       "German          5\n",
       "Name: Language, dtype: int64"
      ]
     },
     "execution_count": 56,
     "metadata": {},
     "output_type": "execute_result"
    }
   ],
   "source": [
    "netflix['Language'].value_counts().head(10)"
   ]
  },
  {
   "cell_type": "code",
   "execution_count": 57,
   "id": "8f272bd0",
   "metadata": {},
   "outputs": [
    {
     "data": {
      "text/plain": [
       "0     17\n",
       "1     29\n",
       "2     82\n",
       "3     59\n",
       "4    383\n",
       "5      5\n",
       "6      9\n",
       "Name: Day, dtype: int64"
      ]
     },
     "execution_count": 57,
     "metadata": {},
     "output_type": "execute_result"
    }
   ],
   "source": [
    "day = netflix.Day.value_counts(sort=False)\n",
    "day"
   ]
  },
  {
   "cell_type": "markdown",
   "id": "52f44bf6",
   "metadata": {},
   "source": [
    "#### we can see lots of movies released on Friday"
   ]
  },
  {
   "cell_type": "code",
   "execution_count": 59,
   "id": "f65e6455",
   "metadata": {},
   "outputs": [
    {
     "data": {
      "text/plain": [
       "<AxesSubplot:>"
      ]
     },
     "execution_count": 59,
     "metadata": {},
     "output_type": "execute_result"
    },
    {
     "data": {
      "image/png": "[encoded data removed]",
      "text/plain": [
       "<Figure size 432x288 with 1 Axes>"
      ]
     },
     "metadata": {
      "needs_background": "light"
     },
     "output_type": "display_data"
    }
   ],
   "source": [
    "sns.barplot(x=day.index, y=day.values, palette=\"PuRd\")"
   ]
  },
  {
   "cell_type": "code",
   "execution_count": 60,
   "id": "a4721302",
   "metadata": {},
   "outputs": [
    {
     "data": {
      "text/plain": [
       "count    584.000000\n",
       "mean       6.271747\n",
       "std        0.979256\n",
       "min        2.500000\n",
       "25%        5.700000\n",
       "50%        6.350000\n",
       "75%        7.000000\n",
       "max        9.000000\n",
       "Name: IMDB Score, dtype: float64"
      ]
     },
     "execution_count": 60,
     "metadata": {},
     "output_type": "execute_result"
    }
   ],
   "source": [
    "netflix['IMDB Score'].describe()"
   ]
  },
  {
   "cell_type": "markdown",
   "id": "2e8d878d",
   "metadata": {},
   "source": [
    "#### Here we can see the maximum given rating is 9.0 and minimum rating is 2.5, and average rating is 6.27 and median of all the rating is 6.35, since median is bigger than mean score so our data may have outlier. "
   ]
  },
  {
   "cell_type": "code",
   "execution_count": 65,
   "id": "c73dcb21",
   "metadata": {},
   "outputs": [
    {
     "data": {
      "image/png": "[encoded data removed]",
      "text/plain": [
       "<Figure size 432x288 with 1 Axes>"
      ]
     },
     "metadata": {
      "needs_background": "light"
     },
     "output_type": "display_data"
    }
   ],
   "source": [
    "#ploting histogram for imdb score\n",
    "\n",
    "sns.histplot(x=netflix['IMDB Score'],color='green',data=netflix)\n",
    "plt.show()"
   ]
  },
  {
   "cell_type": "code",
   "execution_count": 66,
   "id": "b9895a5a",
   "metadata": {},
   "outputs": [
    {
     "data": {
      "text/plain": [
       "<AxesSubplot:xlabel='IMDB Score'>"
      ]
     },
     "execution_count": 66,
     "metadata": {},
     "output_type": "execute_result"
    },
    {
     "data": {
      "image/png": "[encoded data removed]",
      "text/plain": [
       "<Figure size 432x288 with 1 Axes>"
      ]
     },
     "metadata": {
      "needs_background": "light"
     },
     "output_type": "display_data"
    }
   ],
   "source": [
    "# drawing a box plot to visualize the outliers\n",
    "import warnings\n",
    "warnings.filterwarnings('ignore')\n",
    "sns.boxplot(netflix['IMDB Score'])"
   ]
  },
  {
   "cell_type": "code",
   "execution_count": 67,
   "id": "5ceb3249",
   "metadata": {},
   "outputs": [
    {
     "data": {
      "text/plain": [
       "English    401\n",
       "Hindi       33\n",
       "Spanish     31\n",
       "French      20\n",
       "Italian     14\n",
       "Name: Language, dtype: int64"
      ]
     },
     "execution_count": 67,
     "metadata": {},
     "output_type": "execute_result"
    }
   ],
   "source": [
    "top_5_lang = netflix.Language.value_counts().nlargest(5)\n",
    "top_5_lang"
   ]
  },
  {
   "cell_type": "code",
   "execution_count": 68,
   "id": "91ff45d9",
   "metadata": {},
   "outputs": [
    {
     "data": {
      "text/plain": [
       "0       58\n",
       "1       81\n",
       "2       79\n",
       "3       94\n",
       "4       90\n",
       "      ... \n",
       "579    125\n",
       "580     91\n",
       "581    153\n",
       "582     89\n",
       "583     83\n",
       "Name: Runtime, Length: 584, dtype: int64"
      ]
     },
     "execution_count": 68,
     "metadata": {},
     "output_type": "execute_result"
    }
   ],
   "source": [
    "netflix.Runtime"
   ]
  },
  {
   "cell_type": "code",
   "execution_count": 71,
   "id": "d535fe3a",
   "metadata": {},
   "outputs": [
    {
     "data": {
      "text/plain": [
       "count    584.000000\n",
       "mean      93.577055\n",
       "std       27.761683\n",
       "min        4.000000\n",
       "25%       86.000000\n",
       "50%       97.000000\n",
       "75%      108.000000\n",
       "max      209.000000\n",
       "Name: Runtime, dtype: float64"
      ]
     },
     "execution_count": 71,
     "metadata": {},
     "output_type": "execute_result"
    }
   ],
   "source": [
    "netflix.Runtime.describe()"
   ]
  },
  {
   "cell_type": "markdown",
   "id": "a76e31e0",
   "metadata": {},
   "source": [
    "#### max runtime = 209min, min runtime = 4min, average runtime = 94 min"
   ]
  },
  {
   "cell_type": "code",
   "execution_count": 72,
   "id": "1fd5bf97",
   "metadata": {},
   "outputs": [
    {
     "data": {
      "text/plain": [
       "<AxesSubplot:xlabel='Runtime', ylabel='Count'>"
      ]
     },
     "execution_count": 72,
     "metadata": {},
     "output_type": "execute_result"
    },
    {
     "data": {
      "image/png": "[encoded data removed]",
      "text/plain": [
       "<Figure size 432x288 with 1 Axes>"
      ]
     },
     "metadata": {
      "needs_background": "light"
     },
     "output_type": "display_data"
    }
   ],
   "source": [
    "sns.histplot(data=netflix, x=\"Runtime\", kde=True)"
   ]
  },
  {
   "cell_type": "markdown",
   "id": "546a4480",
   "metadata": {},
   "source": [
    "#### The graph is slightly left skewed and has a long tail towards the right with indicates that there are outliers"
   ]
  },
  {
   "cell_type": "code",
   "execution_count": 74,
   "id": "72a92f79",
   "metadata": {},
   "outputs": [
    {
     "data": {
      "text/plain": [
       "<AxesSubplot:xlabel='Runtime'>"
      ]
     },
     "execution_count": 74,
     "metadata": {},
     "output_type": "execute_result"
    },
    {
     "data": {
      "image/png": "[encoded data removed]",
      "text/plain": [
       "<Figure size 432x288 with 1 Axes>"
      ]
     },
     "metadata": {
      "needs_background": "light"
     },
     "output_type": "display_data"
    }
   ],
   "source": [
    "#to check outliers\n",
    "\n",
    "sns.boxplot(netflix['Runtime'])"
   ]
  },
  {
   "cell_type": "code",
   "execution_count": 83,
   "id": "d26dcb38",
   "metadata": {},
   "outputs": [
    {
     "data": {
      "text/html": [
       "<div>\n",
       "<style scoped>\n",
       "    .dataframe tbody tr th:only-of-type {\n",
       "        vertical-align: middle;\n",
       "    }\n",
       "\n",
       "    .dataframe tbody tr th {\n",
       "        vertical-align: top;\n",
       "    }\n",
       "\n",
       "    .dataframe thead th {\n",
       "        text-align: right;\n",
       "    }\n",
       "</style>\n",
       "<table border=\"1\" class=\"dataframe\">\n",
       "  <thead>\n",
       "    <tr style=\"text-align: right;\">\n",
       "      <th></th>\n",
       "      <th>Title</th>\n",
       "      <th>Genre</th>\n",
       "      <th>Runtime</th>\n",
       "    </tr>\n",
       "  </thead>\n",
       "  <tbody>\n",
       "    <tr>\n",
       "      <th>561</th>\n",
       "      <td>The Irishman</td>\n",
       "      <td>Crime drama</td>\n",
       "      <td>209</td>\n",
       "    </tr>\n",
       "  </tbody>\n",
       "</table>\n",
       "</div>"
      ],
      "text/plain": [
       "            Title        Genre  Runtime\n",
       "561  The Irishman  Crime drama      209"
      ]
     },
     "execution_count": 83,
     "metadata": {},
     "output_type": "execute_result"
    }
   ],
   "source": [
    "netflix[netflix.Runtime == netflix.Runtime.max()][[\"Title\", \"Genre\",\"Runtime\"]]"
   ]
  },
  {
   "cell_type": "markdown",
   "id": "109b0ff2",
   "metadata": {},
   "source": [
    "#### The Irishman is the longest movie in this dataset"
   ]
  },
  {
   "cell_type": "code",
   "execution_count": 82,
   "id": "df004855",
   "metadata": {},
   "outputs": [
    {
     "data": {
      "text/html": [
       "<div>\n",
       "<style scoped>\n",
       "    .dataframe tbody tr th:only-of-type {\n",
       "        vertical-align: middle;\n",
       "    }\n",
       "\n",
       "    .dataframe tbody tr th {\n",
       "        vertical-align: top;\n",
       "    }\n",
       "\n",
       "    .dataframe thead th {\n",
       "        text-align: right;\n",
       "    }\n",
       "</style>\n",
       "<table border=\"1\" class=\"dataframe\">\n",
       "  <thead>\n",
       "    <tr style=\"text-align: right;\">\n",
       "      <th></th>\n",
       "      <th>Title</th>\n",
       "      <th>Genre</th>\n",
       "      <th>Runtime</th>\n",
       "    </tr>\n",
       "  </thead>\n",
       "  <tbody>\n",
       "    <tr>\n",
       "      <th>40</th>\n",
       "      <td>Sol Levante</td>\n",
       "      <td>Anime / Short</td>\n",
       "      <td>4</td>\n",
       "    </tr>\n",
       "  </tbody>\n",
       "</table>\n",
       "</div>"
      ],
      "text/plain": [
       "          Title          Genre  Runtime\n",
       "40  Sol Levante  Anime / Short        4"
      ]
     },
     "execution_count": 82,
     "metadata": {},
     "output_type": "execute_result"
    }
   ],
   "source": [
    "netflix[netflix.Runtime == netflix.Runtime.min()][[\"Title\", \"Genre\",\"Runtime\"]]"
   ]
  },
  {
   "cell_type": "code",
   "execution_count": 89,
   "id": "55ca19b1",
   "metadata": {},
   "outputs": [
    {
     "data": {
      "text/html": [
       "<div>\n",
       "<style scoped>\n",
       "    .dataframe tbody tr th:only-of-type {\n",
       "        vertical-align: middle;\n",
       "    }\n",
       "\n",
       "    .dataframe tbody tr th {\n",
       "        vertical-align: top;\n",
       "    }\n",
       "\n",
       "    .dataframe thead th {\n",
       "        text-align: right;\n",
       "    }\n",
       "</style>\n",
       "<table border=\"1\" class=\"dataframe\">\n",
       "  <thead>\n",
       "    <tr style=\"text-align: right;\">\n",
       "      <th></th>\n",
       "      <th>Title</th>\n",
       "      <th>Genre</th>\n",
       "      <th>IMDB Score</th>\n",
       "    </tr>\n",
       "  </thead>\n",
       "  <tbody>\n",
       "    <tr>\n",
       "      <th>583</th>\n",
       "      <td>David Attenborough: A Life on Our Planet</td>\n",
       "      <td>Documentary</td>\n",
       "      <td>9.0</td>\n",
       "    </tr>\n",
       "  </tbody>\n",
       "</table>\n",
       "</div>"
      ],
      "text/plain": [
       "                                        Title        Genre  IMDB Score\n",
       "583  David Attenborough: A Life on Our Planet  Documentary         9.0"
      ]
     },
     "execution_count": 89,
     "metadata": {},
     "output_type": "execute_result"
    }
   ],
   "source": [
    "netflix[netflix[\"IMDB Score\"] == netflix[\"IMDB Score\"].max()][[\"Title\", \"Genre\",\"IMDB Score\"]]"
   ]
  },
  {
   "cell_type": "code",
   "execution_count": 90,
   "id": "832f0750",
   "metadata": {},
   "outputs": [
    {
     "data": {
      "text/html": [
       "<div>\n",
       "<style scoped>\n",
       "    .dataframe tbody tr th:only-of-type {\n",
       "        vertical-align: middle;\n",
       "    }\n",
       "\n",
       "    .dataframe tbody tr th {\n",
       "        vertical-align: top;\n",
       "    }\n",
       "\n",
       "    .dataframe thead th {\n",
       "        text-align: right;\n",
       "    }\n",
       "</style>\n",
       "<table border=\"1\" class=\"dataframe\">\n",
       "  <thead>\n",
       "    <tr style=\"text-align: right;\">\n",
       "      <th></th>\n",
       "      <th>Title</th>\n",
       "      <th>Genre</th>\n",
       "      <th>IMDB Score</th>\n",
       "    </tr>\n",
       "  </thead>\n",
       "  <tbody>\n",
       "    <tr>\n",
       "      <th>0</th>\n",
       "      <td>Enter the Anime</td>\n",
       "      <td>Documentary</td>\n",
       "      <td>2.5</td>\n",
       "    </tr>\n",
       "  </tbody>\n",
       "</table>\n",
       "</div>"
      ],
      "text/plain": [
       "             Title        Genre  IMDB Score\n",
       "0  Enter the Anime  Documentary         2.5"
      ]
     },
     "execution_count": 90,
     "metadata": {},
     "output_type": "execute_result"
    }
   ],
   "source": [
    "netflix[netflix[\"IMDB Score\"] == netflix[\"IMDB Score\"].min()][[\"Title\", \"Genre\",\"IMDB Score\"]]"
   ]
  },
  {
   "cell_type": "code",
   "execution_count": 91,
   "id": "b61b914a",
   "metadata": {},
   "outputs": [
    {
     "data": {
      "text/html": [
       "<div>\n",
       "<style scoped>\n",
       "    .dataframe tbody tr th:only-of-type {\n",
       "        vertical-align: middle;\n",
       "    }\n",
       "\n",
       "    .dataframe tbody tr th {\n",
       "        vertical-align: top;\n",
       "    }\n",
       "\n",
       "    .dataframe thead th {\n",
       "        text-align: right;\n",
       "    }\n",
       "</style>\n",
       "<table border=\"1\" class=\"dataframe\">\n",
       "  <thead>\n",
       "    <tr style=\"text-align: right;\">\n",
       "      <th></th>\n",
       "      <th>IMDB Score</th>\n",
       "      <th>Title</th>\n",
       "      <th>Genre</th>\n",
       "      <th>Year</th>\n",
       "      <th>Language</th>\n",
       "    </tr>\n",
       "  </thead>\n",
       "  <tbody>\n",
       "    <tr>\n",
       "      <th>583</th>\n",
       "      <td>9.0</td>\n",
       "      <td>David Attenborough: A Life on Our Planet</td>\n",
       "      <td>Documentary</td>\n",
       "      <td>2020</td>\n",
       "      <td>English</td>\n",
       "    </tr>\n",
       "    <tr>\n",
       "      <th>582</th>\n",
       "      <td>8.6</td>\n",
       "      <td>Emicida: AmarElo - It's All For Yesterday</td>\n",
       "      <td>Documentary</td>\n",
       "      <td>2020</td>\n",
       "      <td>Portuguese</td>\n",
       "    </tr>\n",
       "    <tr>\n",
       "      <th>581</th>\n",
       "      <td>8.5</td>\n",
       "      <td>Springsteen on Broadway</td>\n",
       "      <td>One-man show</td>\n",
       "      <td>2018</td>\n",
       "      <td>English</td>\n",
       "    </tr>\n",
       "    <tr>\n",
       "      <th>580</th>\n",
       "      <td>8.4</td>\n",
       "      <td>Winter on Fire: Ukraine's Fight for Freedom</td>\n",
       "      <td>Documentary</td>\n",
       "      <td>2015</td>\n",
       "      <td>English/Ukranian/Russian</td>\n",
       "    </tr>\n",
       "    <tr>\n",
       "      <th>579</th>\n",
       "      <td>8.4</td>\n",
       "      <td>Taylor Swift: Reputation Stadium Tour</td>\n",
       "      <td>Concert Film</td>\n",
       "      <td>2018</td>\n",
       "      <td>English</td>\n",
       "    </tr>\n",
       "    <tr>\n",
       "      <th>578</th>\n",
       "      <td>8.4</td>\n",
       "      <td>Ben Platt: Live from Radio City Music Hall</td>\n",
       "      <td>Concert Film</td>\n",
       "      <td>2020</td>\n",
       "      <td>English</td>\n",
       "    </tr>\n",
       "    <tr>\n",
       "      <th>577</th>\n",
       "      <td>8.3</td>\n",
       "      <td>Dancing with the Birds</td>\n",
       "      <td>Documentary</td>\n",
       "      <td>2019</td>\n",
       "      <td>English</td>\n",
       "    </tr>\n",
       "    <tr>\n",
       "      <th>576</th>\n",
       "      <td>8.3</td>\n",
       "      <td>Cuba and the Cameraman</td>\n",
       "      <td>Documentary</td>\n",
       "      <td>2017</td>\n",
       "      <td>English</td>\n",
       "    </tr>\n",
       "    <tr>\n",
       "      <th>573</th>\n",
       "      <td>8.2</td>\n",
       "      <td>Klaus</td>\n",
       "      <td>Animation/Christmas/Comedy/Adventure</td>\n",
       "      <td>2019</td>\n",
       "      <td>English</td>\n",
       "    </tr>\n",
       "    <tr>\n",
       "      <th>571</th>\n",
       "      <td>8.2</td>\n",
       "      <td>13th</td>\n",
       "      <td>Documentary</td>\n",
       "      <td>2016</td>\n",
       "      <td>English</td>\n",
       "    </tr>\n",
       "  </tbody>\n",
       "</table>\n",
       "</div>"
      ],
      "text/plain": [
       "     IMDB Score                                        Title  \\\n",
       "583         9.0     David Attenborough: A Life on Our Planet   \n",
       "582         8.6    Emicida: AmarElo - It's All For Yesterday   \n",
       "581         8.5                      Springsteen on Broadway   \n",
       "580         8.4  Winter on Fire: Ukraine's Fight for Freedom   \n",
       "579         8.4        Taylor Swift: Reputation Stadium Tour   \n",
       "578         8.4   Ben Platt: Live from Radio City Music Hall   \n",
       "577         8.3                       Dancing with the Birds   \n",
       "576         8.3                      Cuba and the Cameraman    \n",
       "573         8.2                                        Klaus   \n",
       "571         8.2                                         13th   \n",
       "\n",
       "                                    Genre  Year                  Language  \n",
       "583                           Documentary  2020                   English  \n",
       "582                           Documentary  2020                Portuguese  \n",
       "581                          One-man show  2018                   English  \n",
       "580                           Documentary  2015  English/Ukranian/Russian  \n",
       "579                          Concert Film  2018                   English  \n",
       "578                          Concert Film  2020                   English  \n",
       "577                           Documentary  2019                   English  \n",
       "576                           Documentary  2017                   English  \n",
       "573  Animation/Christmas/Comedy/Adventure  2019                   English  \n",
       "571                           Documentary  2016                   English  "
      ]
     },
     "execution_count": 91,
     "metadata": {},
     "output_type": "execute_result"
    }
   ],
   "source": [
    "top_10_movies = netflix[[\"IMDB Score\", \"Title\", \"Genre\", \"Year\", \"Language\"]].sort_values([\"IMDB Score\"], ascending=False)[:10]\n",
    "top_10_movies"
   ]
  },
  {
   "cell_type": "markdown",
   "id": "dab0e22d",
   "metadata": {},
   "source": [
    "#### top 10 movie by IMDB score"
   ]
  },
  {
   "cell_type": "code",
   "execution_count": 92,
   "id": "c1bdab60",
   "metadata": {},
   "outputs": [
    {
     "data": {
      "text/html": [
       "<div>\n",
       "<style scoped>\n",
       "    .dataframe tbody tr th:only-of-type {\n",
       "        vertical-align: middle;\n",
       "    }\n",
       "\n",
       "    .dataframe tbody tr th {\n",
       "        vertical-align: top;\n",
       "    }\n",
       "\n",
       "    .dataframe thead th {\n",
       "        text-align: right;\n",
       "    }\n",
       "</style>\n",
       "<table border=\"1\" class=\"dataframe\">\n",
       "  <thead>\n",
       "    <tr style=\"text-align: right;\">\n",
       "      <th></th>\n",
       "      <th>Runtime</th>\n",
       "      <th>IMDB Score</th>\n",
       "      <th>Year</th>\n",
       "      <th>Month</th>\n",
       "      <th>Day</th>\n",
       "    </tr>\n",
       "  </thead>\n",
       "  <tbody>\n",
       "    <tr>\n",
       "      <th>Runtime</th>\n",
       "      <td>1.000000</td>\n",
       "      <td>-0.040896</td>\n",
       "      <td>0.069262</td>\n",
       "      <td>-0.035550</td>\n",
       "      <td>0.184979</td>\n",
       "    </tr>\n",
       "    <tr>\n",
       "      <th>IMDB Score</th>\n",
       "      <td>-0.040896</td>\n",
       "      <td>1.000000</td>\n",
       "      <td>-0.141347</td>\n",
       "      <td>0.108623</td>\n",
       "      <td>-0.079060</td>\n",
       "    </tr>\n",
       "    <tr>\n",
       "      <th>Year</th>\n",
       "      <td>0.069262</td>\n",
       "      <td>-0.141347</td>\n",
       "      <td>1.000000</td>\n",
       "      <td>-0.219262</td>\n",
       "      <td>-0.241357</td>\n",
       "    </tr>\n",
       "    <tr>\n",
       "      <th>Month</th>\n",
       "      <td>-0.035550</td>\n",
       "      <td>0.108623</td>\n",
       "      <td>-0.219262</td>\n",
       "      <td>1.000000</td>\n",
       "      <td>-0.095775</td>\n",
       "    </tr>\n",
       "    <tr>\n",
       "      <th>Day</th>\n",
       "      <td>0.184979</td>\n",
       "      <td>-0.079060</td>\n",
       "      <td>-0.241357</td>\n",
       "      <td>-0.095775</td>\n",
       "      <td>1.000000</td>\n",
       "    </tr>\n",
       "  </tbody>\n",
       "</table>\n",
       "</div>"
      ],
      "text/plain": [
       "             Runtime  IMDB Score      Year     Month       Day\n",
       "Runtime     1.000000   -0.040896  0.069262 -0.035550  0.184979\n",
       "IMDB Score -0.040896    1.000000 -0.141347  0.108623 -0.079060\n",
       "Year        0.069262   -0.141347  1.000000 -0.219262 -0.241357\n",
       "Month      -0.035550    0.108623 -0.219262  1.000000 -0.095775\n",
       "Day         0.184979   -0.079060 -0.241357 -0.095775  1.000000"
      ]
     },
     "execution_count": 92,
     "metadata": {},
     "output_type": "execute_result"
    }
   ],
   "source": [
    "# correlation between columns\n",
    "netflix.corr()"
   ]
  },
  {
   "cell_type": "code",
   "execution_count": 94,
   "id": "8b5a6656",
   "metadata": {},
   "outputs": [
    {
     "data": {
      "text/plain": [
       "<AxesSubplot:>"
      ]
     },
     "execution_count": 94,
     "metadata": {},
     "output_type": "execute_result"
    },
    {
     "data": {
      "image/png": "[encoded data removed]",
      "text/plain": [
       "<Figure size 432x288 with 2 Axes>"
      ]
     },
     "metadata": {
      "needs_background": "light"
     },
     "output_type": "display_data"
    }
   ],
   "source": [
    "sns.heatmap(netflix.corr(),annot = True)"
   ]
  },
  {
   "cell_type": "code",
   "execution_count": 95,
   "id": "b14983b3",
   "metadata": {},
   "outputs": [
    {
     "data": {
      "text/plain": [
       "Genre\n",
       "Animation/Christmas/Comedy/Adventure    8.200000\n",
       "Musical / Short                         7.700000\n",
       "Concert Film                            7.633333\n",
       "Anthology/Dark comedy                   7.600000\n",
       "Animation / Science Fiction             7.500000\n",
       "Making-of                               7.450000\n",
       "Action-adventure                        7.300000\n",
       "Coming-of-age comedy-drama              7.200000\n",
       "Drama-Comedy                            7.200000\n",
       "Historical drama                        7.200000\n",
       "Name: IMDB Score, dtype: float64"
      ]
     },
     "execution_count": 95,
     "metadata": {},
     "output_type": "execute_result"
    }
   ],
   "source": [
    "top_10_ratings_by_genre=netflix.groupby(\"Genre\")[\"IMDB Score\"].mean().nlargest(10)\n",
    "top_10_ratings_by_genre"
   ]
  },
  {
   "cell_type": "code",
   "execution_count": 96,
   "id": "365705d2",
   "metadata": {},
   "outputs": [
    {
     "data": {
      "text/plain": [
       "Genre\n",
       "Heist film/Thriller        3.700000\n",
       "Musical/Western/Fantasy    3.900000\n",
       "Horror anthology           4.300000\n",
       "Political thriller         4.300000\n",
       "Superhero-Comedy           4.400000\n",
       "Science fiction/Drama      4.533333\n",
       "Romance drama              4.600000\n",
       "Mystery                    4.650000\n",
       "Anime / Short              4.700000\n",
       "Horror thriller            4.700000\n",
       "Name: IMDB Score, dtype: float64"
      ]
     },
     "execution_count": 96,
     "metadata": {},
     "output_type": "execute_result"
    }
   ],
   "source": [
    "lowest_10_ratings_by_genre = netflix.groupby(\"Genre\")[\"IMDB Score\"].mean().nsmallest(10)\n",
    "lowest_10_ratings_by_genre"
   ]
  },
  {
   "cell_type": "code",
   "execution_count": null,
   "id": "06541369",
   "metadata": {},
   "outputs": [],
   "source": []
  }
 ],
 "metadata": {
  "kernelspec": {
   "display_name": "Python 3",
   "language": "python",
   "name": "python3"
  },
  "language_info": {
   "codemirror_mode": {
    "name": "ipython",
    "version": 3
   },
   "file_extension": ".py",
   "mimetype": "text/x-python",
   "name": "python",
   "nbconvert_exporter": "python",
   "pygments_lexer": "ipython3",
   "version": "3.8.8"
  }
 },
 "nbformat": 4,
 "nbformat_minor": 5
}
